{
 "cells": [
  {
   "cell_type": "code",
   "execution_count": 2,
   "id": "e93759a8",
   "metadata": {},
   "outputs": [],
   "source": [
    "import pandas as pd\n",
    "import numpy as np"
   ]
  },
  {
   "cell_type": "markdown",
   "id": "f5df3c29",
   "metadata": {},
   "source": [
    "## ANOVA DE UNA VÍA"
   ]
  },
  {
   "cell_type": "code",
   "execution_count": 3,
   "id": "75af89c0",
   "metadata": {},
   "outputs": [
    {
     "data": {
      "text/html": [
       "<div>\n",
       "<style scoped>\n",
       "    .dataframe tbody tr th:only-of-type {\n",
       "        vertical-align: middle;\n",
       "    }\n",
       "\n",
       "    .dataframe tbody tr th {\n",
       "        vertical-align: top;\n",
       "    }\n",
       "\n",
       "    .dataframe thead th {\n",
       "        text-align: right;\n",
       "    }\n",
       "</style>\n",
       "<table border=\"1\" class=\"dataframe\">\n",
       "  <thead>\n",
       "    <tr style=\"text-align: right;\">\n",
       "      <th></th>\n",
       "      <th>posicion</th>\n",
       "      <th>bateo</th>\n",
       "    </tr>\n",
       "  </thead>\n",
       "  <tbody>\n",
       "    <tr>\n",
       "      <th>0</th>\n",
       "      <td>OF</td>\n",
       "      <td>0.359</td>\n",
       "    </tr>\n",
       "    <tr>\n",
       "      <th>1</th>\n",
       "      <td>IF</td>\n",
       "      <td>0.340</td>\n",
       "    </tr>\n",
       "    <tr>\n",
       "      <th>2</th>\n",
       "      <td>IF</td>\n",
       "      <td>0.330</td>\n",
       "    </tr>\n",
       "    <tr>\n",
       "      <th>3</th>\n",
       "      <td>OF</td>\n",
       "      <td>0.341</td>\n",
       "    </tr>\n",
       "    <tr>\n",
       "      <th>4</th>\n",
       "      <td>IF</td>\n",
       "      <td>0.366</td>\n",
       "    </tr>\n",
       "  </tbody>\n",
       "</table>\n",
       "</div>"
      ],
      "text/plain": [
       "  posicion  bateo\n",
       "0       OF  0.359\n",
       "1       IF  0.340\n",
       "2       IF  0.330\n",
       "3       OF  0.341\n",
       "4       IF  0.366"
      ]
     },
     "execution_count": 3,
     "metadata": {},
     "output_type": "execute_result"
    }
   ],
   "source": [
    "df_datosbaseball=pd.read_excel('./datosbaseball.xlsx')\n",
    "df_datosbaseball.head()"
   ]
  },
  {
   "cell_type": "code",
   "execution_count": 4,
   "id": "a1aefda7",
   "metadata": {},
   "outputs": [],
   "source": [
    "import statsmodels.api as sm\n",
    "from statsmodels.formula.api import ols"
   ]
  },
  {
   "cell_type": "code",
   "execution_count": 5,
   "id": "ae7cb0f5",
   "metadata": {},
   "outputs": [],
   "source": [
    "model=ols('bateo ~ posicion',data=df_datosbaseball).fit()"
   ]
  },
  {
   "cell_type": "code",
   "execution_count": 6,
   "id": "016e7535",
   "metadata": {},
   "outputs": [],
   "source": [
    "anova_table=sm.stats.anova_lm(model,typ=2)"
   ]
  },
  {
   "cell_type": "code",
   "execution_count": 7,
   "id": "e097312d",
   "metadata": {},
   "outputs": [
    {
     "data": {
      "text/html": [
       "<div>\n",
       "<style scoped>\n",
       "    .dataframe tbody tr th:only-of-type {\n",
       "        vertical-align: middle;\n",
       "    }\n",
       "\n",
       "    .dataframe tbody tr th {\n",
       "        vertical-align: top;\n",
       "    }\n",
       "\n",
       "    .dataframe thead th {\n",
       "        text-align: right;\n",
       "    }\n",
       "</style>\n",
       "<table border=\"1\" class=\"dataframe\">\n",
       "  <thead>\n",
       "    <tr style=\"text-align: right;\">\n",
       "      <th></th>\n",
       "      <th>sum_sq</th>\n",
       "      <th>df</th>\n",
       "      <th>F</th>\n",
       "      <th>PR(&gt;F)</th>\n",
       "    </tr>\n",
       "  </thead>\n",
       "  <tbody>\n",
       "    <tr>\n",
       "      <th>posicion</th>\n",
       "      <td>0.007557</td>\n",
       "      <td>3.0</td>\n",
       "      <td>1.994349</td>\n",
       "      <td>0.114693</td>\n",
       "    </tr>\n",
       "    <tr>\n",
       "      <th>Residual</th>\n",
       "      <td>0.407984</td>\n",
       "      <td>323.0</td>\n",
       "      <td>NaN</td>\n",
       "      <td>NaN</td>\n",
       "    </tr>\n",
       "  </tbody>\n",
       "</table>\n",
       "</div>"
      ],
      "text/plain": [
       "            sum_sq     df         F    PR(>F)\n",
       "posicion  0.007557    3.0  1.994349  0.114693\n",
       "Residual  0.407984  323.0       NaN       NaN"
      ]
     },
     "execution_count": 7,
     "metadata": {},
     "output_type": "execute_result"
    }
   ],
   "source": [
    "anova_table"
   ]
  },
  {
   "cell_type": "code",
   "execution_count": 19,
   "id": "f326422a",
   "metadata": {},
   "outputs": [],
   "source": [
    "#pvalue)=0.114693 es mayor que alfa así que no podemos rechazar la hipótesis nula de que las medias son iguales\n",
    "#y por tanto no podemos afirmar que la posición tenga una influencia en el bateo"
   ]
  },
  {
   "cell_type": "markdown",
   "id": "cb10ca2d",
   "metadata": {},
   "source": [
    "## ANOVA DE BLOQUES O MEDIAS REPETIDAS"
   ]
  },
  {
   "cell_type": "code",
   "execution_count": 9,
   "id": "de7c52cc",
   "metadata": {},
   "outputs": [
    {
     "data": {
      "text/html": [
       "<div>\n",
       "<style scoped>\n",
       "    .dataframe tbody tr th:only-of-type {\n",
       "        vertical-align: middle;\n",
       "    }\n",
       "\n",
       "    .dataframe tbody tr th {\n",
       "        vertical-align: top;\n",
       "    }\n",
       "\n",
       "    .dataframe thead th {\n",
       "        text-align: right;\n",
       "    }\n",
       "</style>\n",
       "<table border=\"1\" class=\"dataframe\">\n",
       "  <thead>\n",
       "    <tr style=\"text-align: right;\">\n",
       "      <th></th>\n",
       "      <th>producto</th>\n",
       "      <th>tienda</th>\n",
       "      <th>precio</th>\n",
       "    </tr>\n",
       "  </thead>\n",
       "  <tbody>\n",
       "    <tr>\n",
       "      <th>0</th>\n",
       "      <td>lettuce</td>\n",
       "      <td>A</td>\n",
       "      <td>1.755</td>\n",
       "    </tr>\n",
       "    <tr>\n",
       "      <th>1</th>\n",
       "      <td>potatoes</td>\n",
       "      <td>A</td>\n",
       "      <td>2.655</td>\n",
       "    </tr>\n",
       "    <tr>\n",
       "      <th>2</th>\n",
       "      <td>milk</td>\n",
       "      <td>A</td>\n",
       "      <td>2.235</td>\n",
       "    </tr>\n",
       "    <tr>\n",
       "      <th>3</th>\n",
       "      <td>eggs</td>\n",
       "      <td>A</td>\n",
       "      <td>0.975</td>\n",
       "    </tr>\n",
       "    <tr>\n",
       "      <th>4</th>\n",
       "      <td>bread</td>\n",
       "      <td>A</td>\n",
       "      <td>2.370</td>\n",
       "    </tr>\n",
       "  </tbody>\n",
       "</table>\n",
       "</div>"
      ],
      "text/plain": [
       "   producto tienda  precio\n",
       "0   lettuce      A   1.755\n",
       "1  potatoes      A   2.655\n",
       "2      milk      A   2.235\n",
       "3      eggs      A   0.975\n",
       "4     bread      A   2.370"
      ]
     },
     "execution_count": 9,
     "metadata": {},
     "output_type": "execute_result"
    }
   ],
   "source": [
    "df_datostienda=pd.read_excel('./datostienda.xlsx')\n",
    "df_datostienda.head()"
   ]
  },
  {
   "cell_type": "code",
   "execution_count": 14,
   "id": "23b688a7",
   "metadata": {},
   "outputs": [],
   "source": [
    "model=ols('precio ~ tienda + producto',data=df_datostienda).fit()"
   ]
  },
  {
   "cell_type": "code",
   "execution_count": 15,
   "id": "fd27a231",
   "metadata": {},
   "outputs": [],
   "source": [
    "anova_table=sm.stats.anova_lm(model,typ=2)"
   ]
  },
  {
   "cell_type": "code",
   "execution_count": 16,
   "id": "1ec66eb6",
   "metadata": {},
   "outputs": [
    {
     "data": {
      "text/html": [
       "<div>\n",
       "<style scoped>\n",
       "    .dataframe tbody tr th:only-of-type {\n",
       "        vertical-align: middle;\n",
       "    }\n",
       "\n",
       "    .dataframe tbody tr th {\n",
       "        vertical-align: top;\n",
       "    }\n",
       "\n",
       "    .dataframe thead th {\n",
       "        text-align: right;\n",
       "    }\n",
       "</style>\n",
       "<table border=\"1\" class=\"dataframe\">\n",
       "  <thead>\n",
       "    <tr style=\"text-align: right;\">\n",
       "      <th></th>\n",
       "      <th>sum_sq</th>\n",
       "      <th>df</th>\n",
       "      <th>F</th>\n",
       "      <th>PR(&gt;F)</th>\n",
       "    </tr>\n",
       "  </thead>\n",
       "  <tbody>\n",
       "    <tr>\n",
       "      <th>tienda</th>\n",
       "      <td>5.737207</td>\n",
       "      <td>3.0</td>\n",
       "      <td>13.025212</td>\n",
       "      <td>1.897557e-05</td>\n",
       "    </tr>\n",
       "    <tr>\n",
       "      <th>producto</th>\n",
       "      <td>139.479418</td>\n",
       "      <td>9.0</td>\n",
       "      <td>105.553625</td>\n",
       "      <td>1.102247e-18</td>\n",
       "    </tr>\n",
       "    <tr>\n",
       "      <th>Residual</th>\n",
       "      <td>3.964224</td>\n",
       "      <td>27.0</td>\n",
       "      <td>NaN</td>\n",
       "      <td>NaN</td>\n",
       "    </tr>\n",
       "  </tbody>\n",
       "</table>\n",
       "</div>"
      ],
      "text/plain": [
       "              sum_sq    df           F        PR(>F)\n",
       "tienda      5.737207   3.0   13.025212  1.897557e-05\n",
       "producto  139.479418   9.0  105.553625  1.102247e-18\n",
       "Residual    3.964224  27.0         NaN           NaN"
      ]
     },
     "execution_count": 16,
     "metadata": {},
     "output_type": "execute_result"
    }
   ],
   "source": [
    "anova_table"
   ]
  },
  {
   "cell_type": "code",
   "execution_count": 17,
   "id": "f3d42316",
   "metadata": {},
   "outputs": [],
   "source": [
    "#utilizamos el estádictico f de nuestro estudio F=13.025212, el pvalue=1.897557e-05 es menos que alfa, rechazamos \n",
    "#la hipótesis nula de que todas las medias son iguales y por tanto la tienda tiene un efecto en el precio\n",
    "#en el análisis por bloques tenemos el efecto que tiene el precio de la compra F=105.553625 (no nos interesa)\n",
    "#el pvalue=1.102247e-18 nos dice que los bloques tienen un efecto en el precio y hemos hecho bien en meter el bloque\n",
    "#ya que hemos reducido el error al meter la influencia del producto"
   ]
  },
  {
   "cell_type": "markdown",
   "id": "789145be",
   "metadata": {},
   "source": [
    "## ANOVA DE DOS VÍAS"
   ]
  },
  {
   "cell_type": "code",
   "execution_count": null,
   "id": "2364bc0c",
   "metadata": {},
   "outputs": [],
   "source": []
  }
 ],
 "metadata": {
  "kernelspec": {
   "display_name": "Python [conda env:ironhack]",
   "language": "python",
   "name": "conda-env-ironhack-py"
  },
  "language_info": {
   "codemirror_mode": {
    "name": "ipython",
    "version": 3
   },
   "file_extension": ".py",
   "mimetype": "text/x-python",
   "name": "python",
   "nbconvert_exporter": "python",
   "pygments_lexer": "ipython3",
   "version": "3.7.11"
  }
 },
 "nbformat": 4,
 "nbformat_minor": 5
}
